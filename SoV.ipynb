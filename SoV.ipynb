{
  "cells": [
    {
      "cell_type": "code",
      "source": [
        "!pip install factor_analyzer"
      ],
      "metadata": {
        "id": "2L9j-BQLuBlJ"
      },
      "execution_count": null,
      "outputs": []
    },
    {
      "cell_type": "code",
      "execution_count": null,
      "metadata": {
        "id": "IMmUI1AyMhCr"
      },
      "outputs": [],
      "source": [
        "\n",
        "import pandas as pd \n",
        "import numpy as np\n",
        "import csv\n",
        "import matplotlib.pyplot as plt\n",
        "import plotly.express as px\n",
        "from factor_analyzer import FactorAnalyzer, Rotator"
      ]
    },
    {
      "cell_type": "code",
      "execution_count": null,
      "metadata": {
        "id": "dxqA99wBLyi5"
      },
      "outputs": [],
      "source": [
        "df2=pd.read_csv('dados_normalizado.csv')\n",
        "\n",
        "#df2.head()"
      ]
    },
    {
      "cell_type": "code",
      "source": [
        "from sklearn.decomposition import PCA\n",
        "n_components=4\n",
        "pca = PCA(n_components)\n",
        "principalComponents = pca.fit_transform(df2)\n",
        "principalDf = pd.DataFrame(data = principalComponents\n",
        "             , columns = ['principal component 1', 'principal component 2','principal component 3','principal component 4'])"
      ],
      "metadata": {
        "id": "M_imlK6jQLA9"
      },
      "execution_count": null,
      "outputs": []
    },
    {
      "cell_type": "code",
      "source": [
        "\n",
        "fig = px.scatter_matrix(\n",
        "    principalComponents,\n",
        "    dimensions=range(n_components)\n",
        "  )\n",
        "fig.update_traces(diagonal_visible=False)\n",
        "\n",
        "fig.update_layout(\n",
        "    width=1000,\n",
        "    height=1000,\n",
        ")\n",
        "\n",
        "fig.show()"
      ],
      "metadata": {
        "id": "nCgk9LsYIYb0"
      },
      "execution_count": null,
      "outputs": []
    },
    {
      "cell_type": "code",
      "source": [
        "#principalDf.head()\n"
      ],
      "metadata": {
        "id": "4MNB3Jj9LhbO"
      },
      "execution_count": null,
      "outputs": []
    },
    {
      "cell_type": "code",
      "source": [
        "print(pca.explained_variance_ratio_*100)"
      ],
      "metadata": {
        "colab": {
          "base_uri": "https://localhost:8080/"
        },
        "id": "hi-RA0-OR4Sj",
        "outputId": "5b2a2e62-c94c-4369-da75-3a9bdf3c507f"
      },
      "execution_count": null,
      "outputs": [
        {
          "output_type": "stream",
          "name": "stdout",
          "text": [
            "[34.78788518  8.50875719  5.79462889  5.20654784]\n"
          ]
        }
      ]
    },
    {
      "cell_type": "code",
      "source": [
        "principalDf.to_csv('pca_tere.csv')"
      ],
      "metadata": {
        "id": "SsapPV7ISO2X"
      },
      "execution_count": null,
      "outputs": []
    },
    {
      "cell_type": "code",
      "source": [
        "features= df2.columns\n",
        "#print (features)\n",
        "loadings = pd.DataFrame(pca.components_.T, columns=['PC1', 'PC2','PC3','PC4'], index= features)\n",
        "print(loadings)"
      ],
      "metadata": {
        "id": "XESCaWBwm3oe"
      },
      "execution_count": null,
      "outputs": []
    },
    {
      "cell_type": "code",
      "source": [
        "#loadings.to_csv('loadings.csv')\n"
      ],
      "metadata": {
        "id": "EWKtSgNZ8pnf"
      },
      "execution_count": null,
      "outputs": []
    },
    {
      "cell_type": "code",
      "source": [
        "rotator = Rotator(method='varimax')\n",
        "loadings2 = rotator.fit_transform(loadings)\n",
        "print (loadings2)"
      ],
      "metadata": {
        "id": "aPtrCw7-sJuo"
      },
      "execution_count": null,
      "outputs": []
    },
    {
      "cell_type": "code",
      "source": [
        "pd.DataFrame(loadings2).to_csv(\"loadings2.csv\")"
      ],
      "metadata": {
        "id": "hEhKLoHtyJh_"
      },
      "execution_count": null,
      "outputs": []
    },
    {
      "cell_type": "code",
      "source": [
        ""
      ],
      "metadata": {
        "id": "1Pmq0AZSUVB_"
      },
      "execution_count": null,
      "outputs": []
    }
  ],
  "metadata": {
    "colab": {
      "name": "SoV",
      "provenance": [],
      "authorship_tag": "ABX9TyOL7zCnJkh5v6d8uvG4lKYx"
    },
    "kernelspec": {
      "display_name": "Python 3",
      "name": "python3"
    },
    "language_info": {
      "name": "python"
    }
  },
  "nbformat": 4,
  "nbformat_minor": 0
}